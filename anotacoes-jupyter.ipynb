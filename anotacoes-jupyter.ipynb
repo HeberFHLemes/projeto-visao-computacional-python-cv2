{
 "cells": [
  {
   "cell_type": "markdown",
   "metadata": {},
   "source": [
    "# Projeto sobre Visão Computacional / IA realizado na Imersão Python\n",
    "\n",
    "# - Rastreamento de mãos em tempo real com a webcam do computador."
   ]
  },
  {
   "cell_type": "markdown",
   "metadata": {},
   "source": [
    "#### Revisão de conceitos: \n",
    "##### Loopings com while, com for, testes lógicos com if;\n",
    "##### \"!=\" é desigual, e \"==\" é igual;\n",
    "##### Loopings infinitos e break;\n",
    "##### Tipo de dado booleano;"
   ]
  },
  {
   "cell_type": "code",
   "execution_count": 6,
   "metadata": {},
   "outputs": [
    {
     "name": "stdout",
     "output_type": "stream",
     "text": [
      "É a melhor linguagem! \n",
      "Esta não é a melhor linguagem! \n",
      "5\n",
      "4\n",
      "3\n",
      "2\n",
      "1\n"
     ]
    }
   ],
   "source": [
    "#Exemplo:\n",
    "linguagem = \"Python\"\n",
    "if linguagem == \"Python\":\n",
    "    print(\"É a melhor linguagem! \")\n",
    "\n",
    "linguagem = \"Cobol\"\n",
    "if linguagem != \"Python\":\n",
    "    print(\"Esta não é a melhor linguagem! \")\n",
    "\n",
    "#while\n",
    "\n",
    "contador = 5\n",
    "while contador > 0:\n",
    "    print(contador)\n",
    "    contador = contador - 1\n"
   ]
  },
  {
   "cell_type": "markdown",
   "metadata": {},
   "source": [
    "### Instalação de bibliotecas:"
   ]
  },
  {
   "cell_type": "code",
   "execution_count": 1,
   "metadata": {},
   "outputs": [],
   "source": [
    "#pip install opencv-python\n",
    "\n",
    "#pip install mediapipe\n",
    "\n",
    "#pip install cvzone"
   ]
  },
  {
   "cell_type": "code",
   "execution_count": 12,
   "metadata": {},
   "outputs": [],
   "source": [
    "#import cv2 -> opencv-python\n",
    "#from cvzone import HandTrackingModule import HandDetector"
   ]
  },
  {
   "cell_type": "markdown",
   "metadata": {},
   "source": [
    "#### Resto do projeto feito direto em .py"
   ]
  }
 ],
 "metadata": {
  "kernelspec": {
   "display_name": "Python 3",
   "language": "python",
   "name": "python3"
  },
  "language_info": {
   "codemirror_mode": {
    "name": "ipython",
    "version": 3
   },
   "file_extension": ".py",
   "mimetype": "text/x-python",
   "name": "python",
   "nbconvert_exporter": "python",
   "pygments_lexer": "ipython3",
   "version": "3.10.2"
  }
 },
 "nbformat": 4,
 "nbformat_minor": 2
}
